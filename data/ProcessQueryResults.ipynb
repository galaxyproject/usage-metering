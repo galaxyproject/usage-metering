{
 "cells": [
  {
   "cell_type": "code",
   "execution_count": 1,
   "id": "8804d9be-e1e2-4a92-a41d-8e354b0a2d69",
   "metadata": {},
   "outputs": [
    {
     "data": {
      "text/plain": [
       "' For each of the results .txt file returned by the SQL queries,\\nwe processed the tool_id column by extract the toolname and the \\ntoolversion and then build a new column tool_name_version by concatenating\\ntoolname and toolversion with a /'"
      ]
     },
     "execution_count": 1,
     "metadata": {},
     "output_type": "execute_result"
    }
   ],
   "source": [
    "\"\"\" For each of the results .txt file returned by the SQL queries,\n",
    "we processed the tool_id column by extract the toolname and the \n",
    "toolversion and then build a new column tool_name_version by concatenating\n",
    "toolname and toolversion with a /\"\"\" "
   ]
  },
  {
   "cell_type": "code",
   "execution_count": 1,
   "id": "dff5afe5",
   "metadata": {},
   "outputs": [],
   "source": [
    "import pandas as pd"
   ]
  },
  {
   "cell_type": "code",
   "execution_count": 2,
   "id": "a0c25565",
   "metadata": {},
   "outputs": [],
   "source": [
    "def getName(str):\n",
    "    arr = str.split('/')\n",
    "    return arr[len(arr) - 2]"
   ]
  },
  {
   "cell_type": "code",
   "execution_count": 3,
   "id": "8f31fd64",
   "metadata": {},
   "outputs": [],
   "source": [
    "def getVersion(str):\n",
    "    arr = str.split('/')\n",
    "    return arr[len(arr) - 1]"
   ]
  },
  {
   "cell_type": "code",
   "execution_count": 8,
   "id": "1519b074",
   "metadata": {},
   "outputs": [
    {
     "name": "stderr",
     "output_type": "stream",
     "text": [
      "/Library/Frameworks/Python.framework/Versions/3.9/lib/python3.9/site-packages/pandas/core/indexing.py:1732: SettingWithCopyWarning: \n",
      "A value is trying to be set on a copy of a slice from a DataFrame\n",
      "\n",
      "See the caveats in the documentation: https://pandas.pydata.org/pandas-docs/stable/user_guide/indexing.html#returning-a-view-versus-a-copy\n",
      "  self._setitem_single_block(indexer, value, name)\n"
     ]
    }
   ],
   "source": [
    "numjobs_numusers = pd.read_csv('/Users/peiyuanp/Desktop/Galaxy_Summer2021/query_results/unprocessed_toolid/numjobs_numusers.txt',delimiter = '|',names = ['tool_id','num_jobs','num_users'],skiprows = 1)\n",
    "numjobs_numusers = numjobs_numusers.dropna()\n",
    "\n",
    "\n",
    "numjobs_numusers['tool_id'] = numjobs_numusers['tool_id'].str.strip()\n",
    "\n",
    "numjobs_numusers['tool_name_version'] = '0'\n",
    "\n",
    "for i in range(len(numjobs_numusers)):\n",
    "    name = getName(numjobs_numusers['tool_id'].iloc[i])\n",
    "    version = getVersion(numjobs_numusers['tool_id'].iloc[i])\n",
    "    numjobs_numusers['tool_name_version'].iloc[i]= name + '/' + version\n",
    "\n",
    "numjobs_numusers = numjobs_numusers.drop(columns = ['tool_id'])\n",
    "numjobs_numusers.to_csv('numjobs_numusers.csv')"
   ]
  },
  {
   "cell_type": "code",
   "execution_count": 9,
   "id": "1a305611",
   "metadata": {},
   "outputs": [],
   "source": [
    "total_cpu_time_numjobs = pd.read_csv('/Users/peiyuanp/Desktop/Galaxy_Summer2021/query_results/unprocessed_toolid/total_cpu_time_numjobs.txt',delimiter = '|',names = ['tool_id','total_cpu_time','num_jobs'],skiprows = 1)\n",
    "total_cpu_time_numjobs = total_cpu_time_numjobs.dropna()\n",
    "\n",
    "total_cpu_time_numjobs['tool_id'] = total_cpu_time_numjobs['tool_id'].str.strip()\n",
    "\n",
    "total_cpu_time_numjobs['tool_name_version'] = '0'\n",
    "\n",
    "for i in range(len(total_cpu_time_numjobs)):\n",
    "    name = getName(total_cpu_time_numjobs['tool_id'].iloc[i])\n",
    "    version = getVersion(total_cpu_time_numjobs['tool_id'].iloc[i])\n",
    "    total_cpu_time_numjobs['tool_name_version'].iloc[i]= name + '/' + version\n",
    "\n",
    "total_cpu_time_numjobs = total_cpu_time_numjobs.drop(columns = ['tool_id'])\n",
    "total_cpu_time_numjobs.to_csv('total_cpu_time_numjobs.csv')"
   ]
  },
  {
   "cell_type": "code",
   "execution_count": 10,
   "id": "9a9a4187",
   "metadata": {},
   "outputs": [],
   "source": [
    "totalmemory_numjobs = pd.read_csv('/Users/peiyuanp/Desktop/Galaxy_Summer2021/query_results/unprocessed_toolid/totalmemory_numjobs.txt',delimiter = '|',names = ['tool_id','totalmemory','num_jobs'],skiprows = 1)\n",
    "totalmemory_numjobs = totalmemory_numjobs.dropna()\n",
    "\n",
    "totalmemory_numjobs['tool_id'] = totalmemory_numjobs['tool_id'].str.strip()\n",
    "\n",
    "totalmemory_numjobs['tool_name_version'] = '0'\n",
    "\n",
    "for i in range(len(totalmemory_numjobs)):\n",
    "    name = getName(totalmemory_numjobs['tool_id'].iloc[i])\n",
    "    version = getVersion(totalmemory_numjobs['tool_id'].iloc[i])\n",
    "    totalmemory_numjobs['tool_name_version'].iloc[i]= name + '/' + version\n",
    "\n",
    "totalmemory_numjobs = totalmemory_numjobs.drop(columns = ['tool_id'])\n",
    "totalmemory_numjobs.to_csv('totalmemory_numjobs.csv')"
   ]
  },
  {
   "cell_type": "code",
   "execution_count": 15,
   "id": "a591a1e1-48bc-44b1-9834-87ff8990025d",
   "metadata": {},
   "outputs": [],
   "source": [
    "query1_all = pd.read_csv('/Users/peiyuanp/Desktop/Galaxy_Summer2021/query_results/unprocessed_toolid/query1_all.txt',delimiter = '|',names = ['month_year','tool_id','num_jobs'],skiprows = 1)\n",
    "query1_all = query1_all.dropna()\n",
    "\n",
    "query1_all['tool_id'] = query1_all['tool_id'].str.strip()\n",
    "\n",
    "query1_all['tool_name_version'] = '0'\n",
    "\n",
    "for i in range(len(query1_all)):\n",
    "    name = getName(query1_all['tool_id'].iloc[i])\n",
    "    version = getVersion(query1_all['tool_id'].iloc[i])\n",
    "    query1_all['tool_name_version'].iloc[i]= name + '/' + version\n",
    "\n",
    "query1_all = query1_all.drop(columns = ['tool_id'])\n",
    "query1_all.to_csv('numjobs_all.csv')"
   ]
  },
  {
   "cell_type": "code",
   "execution_count": 16,
   "id": "f773cbbb-7929-4665-a287-9f6a03068956",
   "metadata": {},
   "outputs": [],
   "source": [
    "query2_all = pd.read_csv('/Users/peiyuanp/Desktop/Galaxy_Summer2021/query_results/unprocessed_toolid/query2_all.txt',skiprows = 1,delimiter = '|',names = ['tool_id','month_year','total_cpu_time'])\n",
    "query2_all = query2_all.dropna()\n",
    "query2_all['tool_id'] = query2_all['tool_id'].str.strip()\n",
    "\n",
    "query2_all['tool_name_version'] = '0'\n",
    "\n",
    "for i in range(len(query2_all)):\n",
    "    name = getName(query2_all['tool_id'].iloc[i])\n",
    "    version = getVersion(query2_all['tool_id'].iloc[i])\n",
    "    query2_all['tool_name_version'].iloc[i]= name + '/' + version\n",
    "\n",
    "query2_all = query2_all.drop(columns = ['tool_id'])\n",
    "query2_all.to_csv('total_cpu_time_all.csv')"
   ]
  },
  {
   "cell_type": "code",
   "execution_count": 17,
   "id": "bfda635f-e752-4fc1-8038-b318a8d192dc",
   "metadata": {},
   "outputs": [],
   "source": [
    "query3_all = pd.read_csv('/Users/peiyuanp/Desktop/Galaxy_Summer2021/query_results/unprocessed_toolid/query3_all.txt',skiprows = 1,delimiter = '|',names = ['tool_id','month_year','avg_cpu_time'])\n",
    "query3_all = query3_all.dropna()\n",
    "query3_all['tool_id'] = query3_all['tool_id'].str.strip()\n",
    "\n",
    "query3_all['tool_name_version'] = '0'\n",
    "\n",
    "for i in range(len(query3_all)):\n",
    "    name = getName(query3_all['tool_id'].iloc[i])\n",
    "    version = getVersion(query3_all['tool_id'].iloc[i])\n",
    "    query3_all['tool_name_version'].iloc[i]= name + '/' + version\n",
    "\n",
    "query3_all = query3_all.drop(columns = ['tool_id'])\n",
    "query3_all.to_csv('avg_cpu_time_all.csv')"
   ]
  },
  {
   "cell_type": "code",
   "execution_count": 18,
   "id": "768ed103-7026-41d2-99ab-faaebae6cf2b",
   "metadata": {},
   "outputs": [],
   "source": [
    "query4_all = pd.read_csv('/Users/peiyuanp/Desktop/Galaxy_Summer2021/query_results/unprocessed_toolid/query4_all.txt',skiprows = 1,delimiter = '|',names = ['month_year','tool_id','totalmemory'])\n",
    "query4_all = query4_all.dropna()\n",
    "query4_all['tool_id'] = query4_all['tool_id'].str.strip()\n",
    "\n",
    "query4_all['tool_name_version'] = '0'\n",
    "\n",
    "for i in range(len(query4_all)):\n",
    "    name = getName(query4_all['tool_id'].iloc[i])\n",
    "    version = getVersion(query4_all['tool_id'].iloc[i])\n",
    "    query4_all['tool_name_version'].iloc[i]= name + '/' + version\n",
    "\n",
    "query4_all = query4_all.drop(columns = ['tool_id'])\n",
    "query4_all.to_csv('totalmemory_all.csv')"
   ]
  },
  {
   "cell_type": "code",
   "execution_count": 14,
   "id": "c1d608fe-d74c-4209-a3e8-2b366d100407",
   "metadata": {},
   "outputs": [],
   "source": [
    "query5_all = pd.read_csv('/Users/peiyuanp/Desktop/Galaxy_Summer2021/query_results/unprocessed_toolid/query5_all.txt',delimiter = '|',names = ['month_year','tool_id','avgmemory'],skiprows = 1)\n",
    "query5_all = query5_all.dropna()\n",
    "query5_all['tool_id'] = query5_all['tool_id'].str.strip()\n",
    "\n",
    "query5_all['tool_name_version'] = '0'\n",
    "\n",
    "for i in range(len(query5_all)):\n",
    "    name = getName(query5_all['tool_id'].iloc[i])\n",
    "    version = getVersion(query5_all['tool_id'].iloc[i])\n",
    "    query5_all['tool_name_version'].iloc[i] = name + '/' + version\n",
    "\n",
    "query5_all = query5_all.drop(columns = ['tool_id'])\n",
    "query5_all.to_csv('avg_memory_all.csv')\n"
   ]
  },
  {
   "cell_type": "code",
   "execution_count": 19,
   "id": "22568846-1b9c-4bc0-b601-ed2e1010e125",
   "metadata": {},
   "outputs": [],
   "source": [
    "query6_all = pd.read_csv('/Users/peiyuanp/Desktop/Galaxy_Summer2021/query_results/unprocessed_toolid/query6_all.txt',skiprows = 1,delimiter = '|',names = ['month_year','tool_id','numusers'])\n",
    "query6_all = query6_all.dropna()\n",
    "query6_all['tool_id'] = query6_all['tool_id'].str.strip()\n",
    "\n",
    "query6_all['tool_name_version'] = '0'\n",
    "\n",
    "\n",
    "for i in range(len(query6_all)):\n",
    "    name = getName(query6_all['tool_id'].iloc[i])\n",
    "    version = getVersion(query6_all['tool_id'].iloc[i])\n",
    "    query6_all['tool_name_version'].iloc[i] = name + '/' + version\n",
    "\n",
    "query6_all = query6_all.drop(columns = ['tool_id'])\n",
    "query6_all.to_csv('numusers_all.csv')"
   ]
  },
  {
   "cell_type": "code",
   "execution_count": 20,
   "id": "140999fb-4bba-4e48-88b9-e0a185546d6e",
   "metadata": {},
   "outputs": [],
   "source": [
    "query1_May2021 = pd.read_csv('/Users/peiyuanp/Desktop/Galaxy_Summer2021/query_results/unprocessed_toolid/query1_May2021.txt',skiprows = 1,delimiter = '|',names = ['month_year','tool_id','numjobs'])\n",
    "query1_May2021 = query1_May2021.dropna()\n",
    "query1_May2021['tool_id'] = query1_May2021['tool_id'].str.strip()\n",
    "\n",
    "query1_May2021['tool_name_version'] = '0'\n",
    "\n",
    "\n",
    "for i in range(len(query1_May2021)):\n",
    "    name = getName(query1_May2021['tool_id'].iloc[i])\n",
    "    version = getVersion(query1_May2021['tool_id'].iloc[i])\n",
    "    query1_May2021['tool_name_version'].iloc[i] = name + '/' + version\n",
    "\n",
    "query1_May2021.to_csv('numjobs_May2021.csv')"
   ]
  },
  {
   "cell_type": "code",
   "execution_count": 21,
   "id": "1a326caa-6b51-4204-81da-7a02c2476524",
   "metadata": {},
   "outputs": [],
   "source": [
    "query2_May2021 = pd.read_csv('/Users/peiyuanp/Desktop/Galaxy_Summer2021/query_results/unprocessed_toolid/query2_May2021.txt',skiprows = 1,delimiter = '|',names = ['tool_id','month_year','total_cpu_time'])\n",
    "query2_May2021 = query2_May2021.dropna()\n",
    "query2_May2021['tool_id'] = query2_May2021['tool_id'].str.strip()\n",
    "\n",
    "query2_May2021['tool_name_version'] = '0'\n",
    "\n",
    "for i in range(len(query2_May2021)):\n",
    "    name = getName(query2_May2021['tool_id'].iloc[i])\n",
    "    version = getVersion(query2_May2021['tool_id'].iloc[i])\n",
    "    query2_May2021['tool_name_version'].iloc[i]=  name + '/' + version\n",
    "\n",
    "query2_May2021 = query2_May2021.drop(columns = ['tool_id'])\n",
    "\n",
    "query2_May2021.to_csv('total_cpu_time_May2021.csv')"
   ]
  },
  {
   "cell_type": "code",
   "execution_count": 22,
   "id": "f7723486-12ed-464b-99c0-bf91b822d2ae",
   "metadata": {},
   "outputs": [],
   "source": [
    "query3_May2021 = pd.read_csv('/Users/peiyuanp/Desktop/Galaxy_Summer2021/query_results/unprocessed_toolid/query3_May2021.txt',skiprows = 1,delimiter = '|',names = ['tool_id','month_year','avg_cpu_time'])\n",
    "query3_May2021 = query3_May2021.dropna()\n",
    "query3_May2021['tool_id'] = query3_May2021['tool_id'].str.strip()\n",
    "\n",
    "query3_May2021['tool_name_version'] = '0'\n",
    "\n",
    "for i in range(len(query3_May2021)):\n",
    "    name = getName(query3_May2021['tool_id'].iloc[i])\n",
    "    version = getVersion(query3_May2021['tool_id'].iloc[i])\n",
    "    query3_May2021['tool_name_version'].iloc[i]= name + '/' + version\n",
    "\n",
    "query3_May2021 = query3_May2021.drop(columns = ['tool_id'])\n",
    "query3_May2021.to_csv('avg_cpu_time_May2021.csv')"
   ]
  },
  {
   "cell_type": "code",
   "execution_count": 23,
   "id": "e498f675-7872-4bb8-80e4-8d8b6273e871",
   "metadata": {},
   "outputs": [],
   "source": [
    "query4_May2021 = pd.read_csv('/Users/peiyuanp/Desktop/Galaxy_Summer2021/query_results/unprocessed_toolid/query4_May2021.txt',delimiter = '|',names = ['month_year','tool_id','totalmemory'],skiprows = 1)\n",
    "query4_May2021 = query4_May2021.dropna()\n",
    "query4_May2021['tool_id'] = query4_May2021['tool_id'].str.strip()\n",
    "\n",
    "query4_May2021['tool_name_version'] = '0'\n",
    "\n",
    "for i in range(len(query4_May2021)):\n",
    "    name = getName(query4_May2021['tool_id'].iloc[i])\n",
    "    version = getVersion(query4_May2021['tool_id'].iloc[i])\n",
    "    query4_May2021['tool_name_version'].iloc[i]= name + '/' + version\n",
    "\n",
    "query4_May2021 = query4_May2021.drop(columns = ['tool_id'])\n",
    "query4_May2021.to_csv('totalmemory_May2021.csv')"
   ]
  },
  {
   "cell_type": "code",
   "execution_count": 28,
   "id": "abd92cd9-1d7c-4773-bad9-0bebf1aa6d85",
   "metadata": {},
   "outputs": [
    {
     "name": "stderr",
     "output_type": "stream",
     "text": [
      "/Library/Frameworks/Python.framework/Versions/3.9/lib/python3.9/site-packages/pandas/core/indexing.py:1732: SettingWithCopyWarning: \n",
      "A value is trying to be set on a copy of a slice from a DataFrame\n",
      "\n",
      "See the caveats in the documentation: https://pandas.pydata.org/pandas-docs/stable/user_guide/indexing.html#returning-a-view-versus-a-copy\n",
      "  self._setitem_single_block(indexer, value, name)\n"
     ]
    }
   ],
   "source": [
    "query5_May2021 = pd.read_csv('/Users/peiyuanp/Desktop/Galaxy_Summer2021/query_results/unprocessed_toolid/query5_May2021.txt',delimiter = '|',names = ['month_year','tool_id','avgmemory'],skiprows = 1)\n",
    "query5_May2021 = query5_May2021.dropna()\n",
    "query5_May2021['tool_id'] = query5_May2021['tool_id'].str.strip()\n",
    "query5_May2021['tool_name_version'] = '0'\n",
    "\n",
    "for i in range(len(query5_May2021)):\n",
    "    name = getName(query5_May2021['tool_id'].iloc[i])\n",
    "    version = getVersion(query5_May2021['tool_id'].iloc[i])\n",
    "    query5_May2021['tool_name_version'].iloc[i] = name + '/' + version\n",
    "\n",
    "query5_May2021 = query5_May2021.drop(columns = ['tool_id'])\n",
    "query5_May2021.to_csv('avgmemory_May2021.csv')\n"
   ]
  },
  {
   "cell_type": "code",
   "execution_count": 25,
   "id": "8593010e-5aed-4446-9be5-dff0b8db9154",
   "metadata": {},
   "outputs": [],
   "source": [
    "query6_May2021 = pd.read_csv('/Users/peiyuanp/Desktop/Galaxy_Summer2021/query_results/unprocessed_toolid/query6_May2021.txt',delimiter = '|',names = ['month_year','tool_id','numusers'],skiprows = 1)\n",
    "query6_May2021 = query6_May2021.dropna()\n",
    "query6_May2021['tool_id'] = query6_May2021['tool_id'].str.strip()\n",
    "\n",
    "query6_May2021['tool_name_version'] = '0'\n",
    "\n",
    "for i in range(len(query6_May2021)):\n",
    "    name = getName(query6_May2021['tool_id'].iloc[i])\n",
    "    version = getVersion(query6_May2021['tool_id'].iloc[i])\n",
    "    query6_May2021['tool_name_version'].iloc[] = name + '/' + version\n",
    "\n",
    "query6_May2021 = query6_May2021.drop(columns = ['tool_id'])\n",
    "query6_May2021.to_csv('numusers_May2021.csv')"
   ]
  }
 ],
 "metadata": {
  "kernelspec": {
   "display_name": "Python 3 (ipykernel)",
   "language": "python",
   "name": "python3"
  },
  "language_info": {
   "codemirror_mode": {
    "name": "ipython",
    "version": 3
   },
   "file_extension": ".py",
   "mimetype": "text/x-python",
   "name": "python",
   "nbconvert_exporter": "python",
   "pygments_lexer": "ipython3",
   "version": "3.9.1"
  }
 },
 "nbformat": 4,
 "nbformat_minor": 5
}
